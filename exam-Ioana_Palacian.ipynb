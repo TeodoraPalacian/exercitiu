{
 "nbformat": 4,
 "nbformat_minor": 0,
 "metadata": {
  "colab": {
   "provenance": []
  },
  "kernelspec": {
   "name": "python3",
   "display_name": "Python 3"
  },
  "language_info": {
   "name": "python"
  }
 },
 "cells": [
  {
   "cell_type": "code",
   "execution_count": null,
   "metadata": {
    "id": "BpMoibpdB964"
   },
   "outputs": [],
   "source": [
    "import numpy as np\n",
    "from sklearn.datasets import load_wine\n",
    "from sklearn.model_selection import train_test_split\n",
    "from sklearn.preprocessing import StandardScaler\n",
    "from sklearn.ensemble import RandomForestClassifier\n",
    "from sklearn.inspection import permutation_importance"
   ]
  },
  {
   "cell_type": "code",
   "source": [
    "import pandas as pd"
   ],
   "metadata": {
    "id": "NBuSBPKwKkrd"
   },
   "execution_count": null,
   "outputs": []
  },
  {
   "cell_type": "code",
   "source": [
    "#import data\n",
    "wine_data = pd.read_csv('wine data.csv', sep=';', nrows=1000)\n",
    "\n",
    "#view\n",
    "wine_data.head()"
   ],
   "metadata": {
    "id": "yO30R9NUJKJj",
    "colab": {
     "base_uri": "https://localhost:8080/",
     "height": 305
    },
    "outputId": "961b8179-b304-4aa1-8e0c-858254cc8f7e"
   },
   "execution_count": null,
   "outputs": [
    {
     "output_type": "execute_result",
     "data": {
      "text/plain": [
       "   fixed acidity  volatile acidity  citric acid  residual sugar  chlorides  \\\n",
       "0             74                 7            0              19         76   \n",
       "1             78                88            0              26         98   \n",
       "2             78                76            4              23         92   \n",
       "3            112                28           56              19         75   \n",
       "4             74                 7            0              19         76   \n",
       "\n",
       "   free sulfur dioxide  total sulfur dioxide  density   pH  sulphates  \\\n",
       "0                   11                    34     9978  351         56   \n",
       "1                   25                    67     9968   32         68   \n",
       "2                   15                    54      997  326         65   \n",
       "3                   17                    60      998  316         58   \n",
       "4                   11                    34     9978  351         56   \n",
       "\n",
       "   alcohol  quality  \n",
       "0       94        5  \n",
       "1       98        5  \n",
       "2       98        5  \n",
       "3       98        6  \n",
       "4       94        5  "
      ],
      "text/html": [
       "\n",
       "  <div id=\"df-ce78ef87-7eb2-4211-8d87-b6358ba1a16a\">\n",
       "    <div class=\"colab-df-container\">\n",
       "      <div>\n",
       "<style scoped>\n",
       "    .dataframe tbody tr th:only-of-type {\n",
       "        vertical-align: middle;\n",
       "    }\n",
       "\n",
       "    .dataframe tbody tr th {\n",
       "        vertical-align: top;\n",
       "    }\n",
       "\n",
       "    .dataframe thead th {\n",
       "        text-align: right;\n",
       "    }\n",
       "</style>\n",
       "<table border=\"1\" class=\"dataframe\">\n",
       "  <thead>\n",
       "    <tr style=\"text-align: right;\">\n",
       "      <th></th>\n",
       "      <th>fixed acidity</th>\n",
       "      <th>volatile acidity</th>\n",
       "      <th>citric acid</th>\n",
       "      <th>residual sugar</th>\n",
       "      <th>chlorides</th>\n",
       "      <th>free sulfur dioxide</th>\n",
       "      <th>total sulfur dioxide</th>\n",
       "      <th>density</th>\n",
       "      <th>pH</th>\n",
       "      <th>sulphates</th>\n",
       "      <th>alcohol</th>\n",
       "      <th>quality</th>\n",
       "    </tr>\n",
       "  </thead>\n",
       "  <tbody>\n",
       "    <tr>\n",
       "      <th>0</th>\n",
       "      <td>74</td>\n",
       "      <td>7</td>\n",
       "      <td>0</td>\n",
       "      <td>19</td>\n",
       "      <td>76</td>\n",
       "      <td>11</td>\n",
       "      <td>34</td>\n",
       "      <td>9978</td>\n",
       "      <td>351</td>\n",
       "      <td>56</td>\n",
       "      <td>94</td>\n",
       "      <td>5</td>\n",
       "    </tr>\n",
       "    <tr>\n",
       "      <th>1</th>\n",
       "      <td>78</td>\n",
       "      <td>88</td>\n",
       "      <td>0</td>\n",
       "      <td>26</td>\n",
       "      <td>98</td>\n",
       "      <td>25</td>\n",
       "      <td>67</td>\n",
       "      <td>9968</td>\n",
       "      <td>32</td>\n",
       "      <td>68</td>\n",
       "      <td>98</td>\n",
       "      <td>5</td>\n",
       "    </tr>\n",
       "    <tr>\n",
       "      <th>2</th>\n",
       "      <td>78</td>\n",
       "      <td>76</td>\n",
       "      <td>4</td>\n",
       "      <td>23</td>\n",
       "      <td>92</td>\n",
       "      <td>15</td>\n",
       "      <td>54</td>\n",
       "      <td>997</td>\n",
       "      <td>326</td>\n",
       "      <td>65</td>\n",
       "      <td>98</td>\n",
       "      <td>5</td>\n",
       "    </tr>\n",
       "    <tr>\n",
       "      <th>3</th>\n",
       "      <td>112</td>\n",
       "      <td>28</td>\n",
       "      <td>56</td>\n",
       "      <td>19</td>\n",
       "      <td>75</td>\n",
       "      <td>17</td>\n",
       "      <td>60</td>\n",
       "      <td>998</td>\n",
       "      <td>316</td>\n",
       "      <td>58</td>\n",
       "      <td>98</td>\n",
       "      <td>6</td>\n",
       "    </tr>\n",
       "    <tr>\n",
       "      <th>4</th>\n",
       "      <td>74</td>\n",
       "      <td>7</td>\n",
       "      <td>0</td>\n",
       "      <td>19</td>\n",
       "      <td>76</td>\n",
       "      <td>11</td>\n",
       "      <td>34</td>\n",
       "      <td>9978</td>\n",
       "      <td>351</td>\n",
       "      <td>56</td>\n",
       "      <td>94</td>\n",
       "      <td>5</td>\n",
       "    </tr>\n",
       "  </tbody>\n",
       "</table>\n",
       "</div>\n",
       "      <button class=\"colab-df-convert\" onclick=\"convertToInteractive('df-ce78ef87-7eb2-4211-8d87-b6358ba1a16a')\"\n",
       "              title=\"Convert this dataframe to an interactive table.\"\n",
       "              style=\"display:none;\">\n",
       "        \n",
       "  <svg xmlns=\"http://www.w3.org/2000/svg\" height=\"24px\"viewBox=\"0 0 24 24\"\n",
       "       width=\"24px\">\n",
       "    <path d=\"M0 0h24v24H0V0z\" fill=\"none\"/>\n",
       "    <path d=\"M18.56 5.44l.94 2.06.94-2.06 2.06-.94-2.06-.94-.94-2.06-.94 2.06-2.06.94zm-11 1L8.5 8.5l.94-2.06 2.06-.94-2.06-.94L8.5 2.5l-.94 2.06-2.06.94zm10 10l.94 2.06.94-2.06 2.06-.94-2.06-.94-.94-2.06-.94 2.06-2.06.94z\"/><path d=\"M17.41 7.96l-1.37-1.37c-.4-.4-.92-.59-1.43-.59-.52 0-1.04.2-1.43.59L10.3 9.45l-7.72 7.72c-.78.78-.78 2.05 0 2.83L4 21.41c.39.39.9.59 1.41.59.51 0 1.02-.2 1.41-.59l7.78-7.78 2.81-2.81c.8-.78.8-2.07 0-2.86zM5.41 20L4 18.59l7.72-7.72 1.47 1.35L5.41 20z\"/>\n",
       "  </svg>\n",
       "      </button>\n",
       "      \n",
       "  <style>\n",
       "    .colab-df-container {\n",
       "      display:flex;\n",
       "      flex-wrap:wrap;\n",
       "      gap: 12px;\n",
       "    }\n",
       "\n",
       "    .colab-df-convert {\n",
       "      background-color: #E8F0FE;\n",
       "      border: none;\n",
       "      border-radius: 50%;\n",
       "      cursor: pointer;\n",
       "      display: none;\n",
       "      fill: #1967D2;\n",
       "      height: 32px;\n",
       "      padding: 0 0 0 0;\n",
       "      width: 32px;\n",
       "    }\n",
       "\n",
       "    .colab-df-convert:hover {\n",
       "      background-color: #E2EBFA;\n",
       "      box-shadow: 0px 1px 2px rgba(60, 64, 67, 0.3), 0px 1px 3px 1px rgba(60, 64, 67, 0.15);\n",
       "      fill: #174EA6;\n",
       "    }\n",
       "\n",
       "    [theme=dark] .colab-df-convert {\n",
       "      background-color: #3B4455;\n",
       "      fill: #D2E3FC;\n",
       "    }\n",
       "\n",
       "    [theme=dark] .colab-df-convert:hover {\n",
       "      background-color: #434B5C;\n",
       "      box-shadow: 0px 1px 3px 1px rgba(0, 0, 0, 0.15);\n",
       "      filter: drop-shadow(0px 1px 2px rgba(0, 0, 0, 0.3));\n",
       "      fill: #FFFFFF;\n",
       "    }\n",
       "  </style>\n",
       "\n",
       "      <script>\n",
       "        const buttonEl =\n",
       "          document.querySelector('#df-ce78ef87-7eb2-4211-8d87-b6358ba1a16a button.colab-df-convert');\n",
       "        buttonEl.style.display =\n",
       "          google.colab.kernel.accessAllowed ? 'block' : 'none';\n",
       "\n",
       "        async function convertToInteractive(key) {\n",
       "          const element = document.querySelector('#df-ce78ef87-7eb2-4211-8d87-b6358ba1a16a');\n",
       "          const dataTable =\n",
       "            await google.colab.kernel.invokeFunction('convertToInteractive',\n",
       "                                                     [key], {});\n",
       "          if (!dataTable) return;\n",
       "\n",
       "          const docLinkHtml = 'Like what you see? Visit the ' +\n",
       "            '<a target=\"_blank\" href=https://colab.research.google.com/notebooks/data_table.ipynb>data table notebook</a>'\n",
       "            + ' to learn more about interactive tables.';\n",
       "          element.innerHTML = '';\n",
       "          dataTable['output_type'] = 'display_data';\n",
       "          await google.colab.output.renderOutput(dataTable, element);\n",
       "          const docLink = document.createElement('div');\n",
       "          docLink.innerHTML = docLinkHtml;\n",
       "          element.appendChild(docLink);\n",
       "        }\n",
       "      </script>\n",
       "    </div>\n",
       "  </div>\n",
       "  "
      ]
     },
     "metadata": {},
     "execution_count": 5
    }
   ]
  },
  {
   "cell_type": "code",
   "source": [
    "y = wine_data['quality']\n",
    "x = wine_data.drop('quality', axis=1)"
   ],
   "metadata": {
    "id": "SyGDLOGPeLBK"
   },
   "execution_count": null,
   "outputs": []
  },
  {
   "cell_type": "code",
   "source": [
    "# Train / Test split\n",
    "X_train, X_test, y_train, y_test = train_test_split(x, y, test_size=0.3, random_state=42)"
   ],
   "metadata": {
    "id": "xmrdy6rkU656"
   },
   "execution_count": null,
   "outputs": []
  },
  {
   "cell_type": "code",
   "source": [
    "#instance scaler\n",
    "scaler = StandardScaler()\n",
    "\n",
    "#fit to train data\n",
    "scaler.fit(X_train)\n",
    "\n",
    "#transform train and test data\n",
    "X_train = scaler.transform(X_train)\n",
    "\n",
    "X_test = scaler.transform(X_test)"
   ],
   "metadata": {
    "id": "h9Xffjixe47x"
   },
   "execution_count": null,
   "outputs": []
  },
  {
   "cell_type": "code",
   "source": [
    " #fit classifier\n",
    "rf_clf = RandomForestClassifier(n_estimators=10, random_state=42).fit(X_train, y_train)\n",
    "\n",
    "#print mean accuracy achieved on test set\n",
    "rf_clf.score(X_test, y_test)"
   ],
   "metadata": {
    "colab": {
     "base_uri": "https://localhost:8080/"
    },
    "id": "7k3ZZtiOfgvZ",
    "outputId": "8d87b543-1dc4-4e71-f469-e3dd3f3e4675"
   },
   "execution_count": null,
   "outputs": [
    {
     "output_type": "execute_result",
     "data": {
      "text/plain": [
       "0.6633333333333333"
      ]
     },
     "metadata": {},
     "execution_count": 9
    }
   ]
  },
  {
   "cell_type": "code",
   "source": [
    "#permutation feature importance\n",
    "#clasifier+labels+features -> importance for every feature s\n",
    "\n",
    "def feature_importance(clf, X, y, top_limit=None):\n",
    "  bunch = permutation_importance(clf, X, y, n_repeats=50, random_state=42)\n",
    "\n",
    "  #average feature importance\n",
    "  imp_means = bunch.importances_mean\n",
    "\n",
    "  #list with index of each feature in order of importance (descending)\n",
    "  ordered_imp_means_args = np.argsort(imp_means)[::-1]\n",
    "\n",
    "  #print all features if there is no top limit\n",
    "  if top_limit is None:\n",
    "    top_limit = len(ordered_imp_means_args)\n",
    "\n",
    "  #print info\n",
    "  for i, _ in zip(ordered_imp_means_args, range(top_limit)):\n",
    "    name = x.columns[i]\n",
    "    imp_score = imp_means[i]\n",
    "    imp_std = bunch.importances_std[i]\n",
    "    print(f\"Feature {name} with index {i} has an average importance score of {imp_score: .3f} +/- {imp_std: .3f}\\n\")"
   ],
   "metadata": {
    "id": "S1-vUn36ilsR"
   },
   "execution_count": null,
   "outputs": []
  },
  {
   "cell_type": "code",
   "source": [
    "help(permutation_importance)"
   ],
   "metadata": {
    "colab": {
     "base_uri": "https://localhost:8080/"
    },
    "id": "MdLTM8q4_tRl",
    "outputId": "0f44046e-8c6a-4a46-afe0-573e8a6b49e5"
   },
   "execution_count": null,
   "outputs": [
    {
     "output_type": "stream",
     "name": "stdout",
     "text": [
      "Help on function permutation_importance in module sklearn.inspection._permutation_importance:\n",
      "\n",
      "permutation_importance(estimator, X, y, *, scoring=None, n_repeats=5, n_jobs=None, random_state=None, sample_weight=None, max_samples=1.0)\n",
      "    Permutation importance for feature evaluation [BRE]_.\n",
      "    \n",
      "    The :term:`estimator` is required to be a fitted estimator. `X` can be the\n",
      "    data set used to train the estimator or a hold-out set. The permutation\n",
      "    importance of a feature is calculated as follows. First, a baseline metric,\n",
      "    defined by :term:`scoring`, is evaluated on a (potentially different)\n",
      "    dataset defined by the `X`. Next, a feature column from the validation set\n",
      "    is permuted and the metric is evaluated again. The permutation importance\n",
      "    is defined to be the difference between the baseline metric and metric from\n",
      "    permutating the feature column.\n",
      "    \n",
      "    Read more in the :ref:`User Guide <permutation_importance>`.\n",
      "    \n",
      "    Parameters\n",
      "    ----------\n",
      "    estimator : object\n",
      "        An estimator that has already been :term:`fitted` and is compatible\n",
      "        with :term:`scorer`.\n",
      "    \n",
      "    X : ndarray or DataFrame, shape (n_samples, n_features)\n",
      "        Data on which permutation importance will be computed.\n",
      "    \n",
      "    y : array-like or None, shape (n_samples, ) or (n_samples, n_classes)\n",
      "        Targets for supervised or `None` for unsupervised.\n",
      "    \n",
      "    scoring : str, callable, list, tuple, or dict, default=None\n",
      "        Scorer to use.\n",
      "        If `scoring` represents a single score, one can use:\n",
      "    \n",
      "        - a single string (see :ref:`scoring_parameter`);\n",
      "        - a callable (see :ref:`scoring`) that returns a single value.\n",
      "    \n",
      "        If `scoring` represents multiple scores, one can use:\n",
      "    \n",
      "        - a list or tuple of unique strings;\n",
      "        - a callable returning a dictionary where the keys are the metric\n",
      "          names and the values are the metric scores;\n",
      "        - a dictionary with metric names as keys and callables a values.\n",
      "    \n",
      "        Passing multiple scores to `scoring` is more efficient than calling\n",
      "        `permutation_importance` for each of the scores as it reuses\n",
      "        predictions to avoid redundant computation.\n",
      "    \n",
      "        If None, the estimator's default scorer is used.\n",
      "    \n",
      "    n_repeats : int, default=5\n",
      "        Number of times to permute a feature.\n",
      "    \n",
      "    n_jobs : int or None, default=None\n",
      "        Number of jobs to run in parallel. The computation is done by computing\n",
      "        permutation score for each columns and parallelized over the columns.\n",
      "        `None` means 1 unless in a :obj:`joblib.parallel_backend` context.\n",
      "        `-1` means using all processors. See :term:`Glossary <n_jobs>`\n",
      "        for more details.\n",
      "    \n",
      "    random_state : int, RandomState instance, default=None\n",
      "        Pseudo-random number generator to control the permutations of each\n",
      "        feature.\n",
      "        Pass an int to get reproducible results across function calls.\n",
      "        See :term:`Glossary <random_state>`.\n",
      "    \n",
      "    sample_weight : array-like of shape (n_samples,), default=None\n",
      "        Sample weights used in scoring.\n",
      "    \n",
      "        .. versionadded:: 0.24\n",
      "    \n",
      "    max_samples : int or float, default=1.0\n",
      "        The number of samples to draw from X to compute feature importance\n",
      "        in each repeat (without replacement).\n",
      "    \n",
      "        - If int, then draw `max_samples` samples.\n",
      "        - If float, then draw `max_samples * X.shape[0]` samples.\n",
      "        - If `max_samples` is equal to `1.0` or `X.shape[0]`, all samples\n",
      "          will be used.\n",
      "    \n",
      "        While using this option may provide less accurate importance estimates,\n",
      "        it keeps the method tractable when evaluating feature importance on\n",
      "        large datasets. In combination with `n_repeats`, this allows to control\n",
      "        the computational speed vs statistical accuracy trade-off of this method.\n",
      "    \n",
      "        .. versionadded:: 1.0\n",
      "    \n",
      "    Returns\n",
      "    -------\n",
      "    result : :class:`~sklearn.utils.Bunch` or dict of such instances\n",
      "        Dictionary-like object, with the following attributes.\n",
      "    \n",
      "        importances_mean : ndarray of shape (n_features, )\n",
      "            Mean of feature importance over `n_repeats`.\n",
      "        importances_std : ndarray of shape (n_features, )\n",
      "            Standard deviation over `n_repeats`.\n",
      "        importances : ndarray of shape (n_features, n_repeats)\n",
      "            Raw permutation importance scores.\n",
      "    \n",
      "        If there are multiple scoring metrics in the scoring parameter\n",
      "        `result` is a dict with scorer names as keys (e.g. 'roc_auc') and\n",
      "        `Bunch` objects like above as values.\n",
      "    \n",
      "    References\n",
      "    ----------\n",
      "    .. [BRE] L. Breiman, \"Random Forests\", Machine Learning, 45(1), 5-32,\n",
      "             2001. https://doi.org/10.1023/A:1010933404324\n",
      "    \n",
      "    Examples\n",
      "    --------\n",
      "    >>> from sklearn.linear_model import LogisticRegression\n",
      "    >>> from sklearn.inspection import permutation_importance\n",
      "    >>> X = [[1, 9, 9],[1, 9, 9],[1, 9, 9],\n",
      "    ...      [0, 9, 9],[0, 9, 9],[0, 9, 9]]\n",
      "    >>> y = [1, 1, 1, 0, 0, 0]\n",
      "    >>> clf = LogisticRegression().fit(X, y)\n",
      "    >>> result = permutation_importance(clf, X, y, n_repeats=10,\n",
      "    ...                                 random_state=0)\n",
      "    >>> result.importances_mean\n",
      "    array([0.4666..., 0.       , 0.       ])\n",
      "    >>> result.importances_std\n",
      "    array([0.2211..., 0.       , 0.       ])\n",
      "\n"
     ]
    }
   ]
  },
  {
   "cell_type": "code",
   "source": [
    "#apply function\n",
    "feature_importance(rf_clf, X_train, y_train)"
   ],
   "metadata": {
    "colab": {
     "base_uri": "https://localhost:8080/"
    },
    "id": "pxpFC4Ad6MyW",
    "outputId": "d072c343-2a49-445e-b0a7-e5bde7924c5b"
   },
   "execution_count": null,
   "outputs": [
    {
     "output_type": "stream",
     "name": "stdout",
     "text": [
      "Feature alcohol with index 10 has an average importance score of  0.245 +/-  0.012\n",
      "\n",
      "Feature volatile acidity with index 1 has an average importance score of  0.159 +/-  0.011\n",
      "\n",
      "Feature total sulfur dioxide with index 6 has an average importance score of  0.143 +/-  0.011\n",
      "\n",
      "Feature sulphates with index 9 has an average importance score of  0.127 +/-  0.011\n",
      "\n",
      "Feature density with index 7 has an average importance score of  0.071 +/-  0.006\n",
      "\n",
      "Feature citric acid with index 2 has an average importance score of  0.061 +/-  0.006\n",
      "\n",
      "Feature chlorides with index 4 has an average importance score of  0.059 +/-  0.007\n",
      "\n",
      "Feature free sulfur dioxide with index 5 has an average importance score of  0.048 +/-  0.007\n",
      "\n",
      "Feature pH with index 8 has an average importance score of  0.048 +/-  0.006\n",
      "\n",
      "Feature fixed acidity with index 0 has an average importance score of  0.047 +/-  0.006\n",
      "\n",
      "Feature residual sugar with index 3 has an average importance score of  0.035 +/-  0.005\n",
      "\n"
     ]
    }
   ]
  },
  {
   "cell_type": "code",
   "source": [
    "feature_importance(rf_clf, X_test, y_test)"
   ],
   "metadata": {
    "colab": {
     "base_uri": "https://localhost:8080/"
    },
    "id": "NPZ2Ze0vQkPg",
    "outputId": "1a4170fc-17e8-4671-c6d4-4b81d4179d29"
   },
   "execution_count": null,
   "outputs": [
    {
     "output_type": "stream",
     "name": "stdout",
     "text": [
      "Feature alcohol with index 10 has an average importance score of  0.133 +/-  0.022\n",
      "\n",
      "Feature total sulfur dioxide with index 6 has an average importance score of  0.078 +/-  0.016\n",
      "\n",
      "Feature sulphates with index 9 has an average importance score of  0.070 +/-  0.015\n",
      "\n",
      "Feature volatile acidity with index 1 has an average importance score of  0.065 +/-  0.014\n",
      "\n",
      "Feature chlorides with index 4 has an average importance score of  0.036 +/-  0.012\n",
      "\n",
      "Feature pH with index 8 has an average importance score of  0.028 +/-  0.013\n",
      "\n",
      "Feature citric acid with index 2 has an average importance score of  0.021 +/-  0.012\n",
      "\n",
      "Feature free sulfur dioxide with index 5 has an average importance score of  0.020 +/-  0.013\n",
      "\n",
      "Feature density with index 7 has an average importance score of  0.017 +/-  0.013\n",
      "\n",
      "Feature fixed acidity with index 0 has an average importance score of  0.006 +/-  0.012\n",
      "\n",
      "Feature residual sugar with index 3 has an average importance score of  0.002 +/-  0.011\n",
      "\n"
     ]
    }
   ]
  },
  {
   "cell_type": "code",
   "source": [
    "#retrain model with top 4 features\n",
    "print(\"On train split\")\n",
    "feature_importance(rf_clf, X_train, y_train, top_limit=4)\n",
    "\n",
    "print(\"On test split\")\n",
    "feature_importance(rf_clf, X_test, y_test, top_limit=4)"
   ],
   "metadata": {
    "colab": {
     "base_uri": "https://localhost:8080/"
    },
    "id": "K2LspzkWSd0K",
    "outputId": "786de7cb-ea37-4506-86f1-16ab5dce9f39"
   },
   "execution_count": null,
   "outputs": [
    {
     "output_type": "stream",
     "name": "stdout",
     "text": [
      "On train split\n",
      "Feature alcohol with index 10 has an average importance score of  0.245 +/-  0.012\n",
      "\n",
      "Feature volatile acidity with index 1 has an average importance score of  0.159 +/-  0.011\n",
      "\n",
      "Feature total sulfur dioxide with index 6 has an average importance score of  0.143 +/-  0.011\n",
      "\n",
      "Feature sulphates with index 9 has an average importance score of  0.127 +/-  0.011\n",
      "\n",
      "On test split\n",
      "Feature alcohol with index 10 has an average importance score of  0.133 +/-  0.022\n",
      "\n",
      "Feature total sulfur dioxide with index 6 has an average importance score of  0.078 +/-  0.016\n",
      "\n",
      "Feature sulphates with index 9 has an average importance score of  0.070 +/-  0.015\n",
      "\n",
      "Feature volatile acidity with index 1 has an average importance score of  0.065 +/-  0.014\n",
      "\n"
     ]
    }
   ]
  },
  {
   "cell_type": "code",
   "source": [
    "#preserve only the top features\n",
    "X_train_top_features = X_train[:,[1, 6, 9, 10]]\n",
    "X_test_top_features = X_test[:,[1, 6, 9, 10]]\n"
   ],
   "metadata": {
    "id": "YdVb8-4MToXD"
   },
   "execution_count": null,
   "outputs": []
  },
  {
   "cell_type": "code",
   "source": [
    "#retrain the model only with these features\n",
    "rf_clf = RandomForestClassifier(n_estimators=10, random_state=42).fit(X_train_top_features, y_train)"
   ],
   "metadata": {
    "id": "bmY_-LW_oMEh"
   },
   "execution_count": null,
   "outputs": []
  },
  {
   "cell_type": "code",
   "source": [
    "#mean accuarcy\n",
    "rf_clf.score(X_test_top_features, y_test)"
   ],
   "metadata": {
    "colab": {
     "base_uri": "https://localhost:8080/"
    },
    "id": "9CKetZRSoqmc",
    "outputId": "30cd8f26-7b4d-476e-c7e2-d8c74ba6364c"
   },
   "execution_count": null,
   "outputs": [
    {
     "output_type": "execute_result",
     "data": {
      "text/plain": [
       "0.6533333333333333"
      ]
     },
     "metadata": {},
     "execution_count": 16
    }
   ]
  },
  {
   "cell_type": "code",
   "source": [
    "#preserve only the top features\n",
    "X_train_top3_features = X_train[:,[6, 9, 10]]\n",
    "X_test_top3_features = X_test[:,[6, 9, 10]]"
   ],
   "metadata": {
    "id": "-3lAX8wgo_4E"
   },
   "execution_count": null,
   "outputs": []
  },
  {
   "cell_type": "code",
   "source": [
    "rf_clf = RandomForestClassifier(n_estimators=10, random_state=42).fit(X_train_top3_features, y_train)"
   ],
   "metadata": {
    "id": "GNKIHj4PpQ96"
   },
   "execution_count": null,
   "outputs": []
  },
  {
   "cell_type": "code",
   "source": [
    "#mean accuarcy\n",
    "rf_clf.score(X_test_top3_features, y_test)"
   ],
   "metadata": {
    "colab": {
     "base_uri": "https://localhost:8080/"
    },
    "id": "msgPaxNJpI3E",
    "outputId": "2278bcb1-4eb8-40ac-bea1-2832559d6310"
   },
   "execution_count": null,
   "outputs": [
    {
     "output_type": "execute_result",
     "data": {
      "text/plain": [
       "0.6633333333333333"
      ]
     },
     "metadata": {},
     "execution_count": 20
    }
   ]
  },
  {
   "cell_type": "code",
   "source": [
    "#preserve only the top features\n",
    "X_train_top2_features = X_train[:,[6, 10]]\n",
    "X_test_top2_features = X_test[:,[6, 10]]\n",
    "\n",
    "#retrain the model only with these features\n",
    "rf_clf = RandomForestClassifier(n_estimators=10, random_state=42).fit(X_train_top2_features, y_train)\n",
    "\n",
    "#mean accuarcy\n",
    "rf_clf.score(X_test_top2_features, y_test)"
   ],
   "metadata": {
    "colab": {
     "base_uri": "https://localhost:8080/"
    },
    "id": "S8H77s15pagN",
    "outputId": "0ef1bf6d-2370-4d26-e392-681c3efd9121"
   },
   "execution_count": null,
   "outputs": [
    {
     "output_type": "execute_result",
     "data": {
      "text/plain": [
       "0.6"
      ]
     },
     "metadata": {},
     "execution_count": 21
    }
   ]
  }
 ]
}
